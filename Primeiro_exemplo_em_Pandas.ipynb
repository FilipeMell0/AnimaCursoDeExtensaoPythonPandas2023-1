{
  "nbformat": 4,
  "nbformat_minor": 0,
  "metadata": {
    "colab": {
      "provenance": [],
      "authorship_tag": "ABX9TyMUYuZ6sXNRGqwaD2MTsOBc",
      "include_colab_link": true
    },
    "kernelspec": {
      "name": "python3",
      "display_name": "Python 3"
    },
    "language_info": {
      "name": "python"
    }
  },
  "cells": [
    {
      "cell_type": "markdown",
      "metadata": {
        "id": "view-in-github",
        "colab_type": "text"
      },
      "source": [
        "<a href=\"https://colab.research.google.com/github/FilipeMell0/AnimaCursoDeExtensaoPythonPandas2023-1/blob/main/Primeiro_exemplo_em_Pandas.ipynb\" target=\"_parent\"><img src=\"https://colab.research.google.com/assets/colab-badge.svg\" alt=\"Open In Colab\"/></a>"
      ]
    },
    {
      "cell_type": "markdown",
      "source": [
        "Primeiro exemplo de manipulação de dados usando python pandas.\n",
        "\n",
        "Autor: Filipe Mello e Poyatos\n",
        "\n",
        "Data: 06/02/2023 e 07/02/2023"
      ],
      "metadata": {
        "id": "nAlNUW11UVPg"
      }
    },
    {
      "cell_type": "code",
      "execution_count": 6,
      "metadata": {
        "id": "BaLrFd8qCwhH"
      },
      "outputs": [],
      "source": [
        "#Importando biblioteca panda no python\n",
        "import pandas as pd\n",
        "\n",
        "combustiveis_df = pd.read_excel(\"ca-2021-02.xlsx\")"
      ]
    },
    {
      "cell_type": "code",
      "source": [
        "#Usa o print para ver o dataframe!\n",
        "print(combustiveis_df)"
      ],
      "metadata": {
        "id": "LhjXcaBvA6Y1"
      },
      "execution_count": null,
      "outputs": []
    },
    {
      "cell_type": "code",
      "source": [
        "#Usa o display para ver o dataframe!\n",
        "display(combustiveis_df)"
      ],
      "metadata": {
        "id": "6m_KvQ99CMr-"
      },
      "execution_count": null,
      "outputs": []
    },
    {
      "cell_type": "code",
      "source": [
        "#Exibe as primeiras 5 linhas\n",
        "display(combustiveis_df.head(5))"
      ],
      "metadata": {
        "id": "JgQflQBMEzaV"
      },
      "execution_count": null,
      "outputs": []
    },
    {
      "cell_type": "code",
      "source": [
        "#Quero, na verdade, mostrar as 15 primeiras linhas\n",
        "display(combustiveis_df.head(15))"
      ],
      "metadata": {
        "id": "m45HIWh-Fn5H"
      },
      "execution_count": null,
      "outputs": []
    },
    {
      "cell_type": "code",
      "source": [
        "#Comandos Dataframe.shape() e Dataframe.describe()\n",
        "print(combustiveis_df.shape)\n",
        "#Mostra o número de linhas e colunas \n",
        "\n",
        "#Só as linhas \n",
        "print(combustiveis_df.shape[0])"
      ],
      "metadata": {
        "id": "TcX1nAWlHbCL"
      },
      "execution_count": null,
      "outputs": []
    },
    {
      "cell_type": "code",
      "source": [
        "#Describe mostras as estatísticas mais \"básicas\"\n",
        "print(combustiveis_df.describe())"
      ],
      "metadata": {
        "id": "Z28O3avfJu4d"
      },
      "execution_count": null,
      "outputs": []
    },
    {
      "cell_type": "code",
      "source": [
        "#Quais são as colunas e que tipo de dados\n",
        "print(combustiveis_df.info())"
      ],
      "metadata": {
        "id": "gOEiUULJKV1w"
      },
      "execution_count": null,
      "outputs": []
    },
    {
      "cell_type": "code",
      "source": [
        "#Filtrar apenas por uma coluna\n",
        "display(combustiveis_df['Revenda'])"
      ],
      "metadata": {
        "id": "zts0GdexNg7j"
      },
      "execution_count": null,
      "outputs": []
    },
    {
      "cell_type": "code",
      "source": [
        "#Aqui é um data frame com uma das colunas que eu quero\n",
        "ca_df = combustiveis_df[['Revenda','Municipio','Produto','Valor de Venda']]\n",
        "display(ca_df)"
      ],
      "metadata": {
        "id": "SK6AgWx6Z9tw"
      },
      "execution_count": null,
      "outputs": []
    },
    {
      "cell_type": "code",
      "source": [
        "#Exibe a 4ª linha\n",
        "display(ca_df.loc[3])"
      ],
      "metadata": {
        "id": "4EH0CnX4b5m9"
      },
      "execution_count": null,
      "outputs": []
    },
    {
      "cell_type": "code",
      "source": [
        "#Exibir da 10ª linha até a 20ª\n",
        "display(ca_df.loc[9:19])"
      ],
      "metadata": {
        "id": "fZaFDIstdZAU"
      },
      "execution_count": null,
      "outputs": []
    },
    {
      "cell_type": "code",
      "source": [
        "# Criar um dataframe gas_df contendo \n",
        "# apenas as 4 colunas (Revenda, Municipio, Produto, Valor de Venda)\n",
        "# somente com combustível sendo GASOLINA e exibir na tela\n",
        "gas_df = ca_df.loc[ca_df['Produto'] == 'GASOLINA']\n",
        "display(gas_df)\n",
        "\n",
        "display(gas_df['Valor de Venda'].max())"
      ],
      "metadata": {
        "id": "rY_5zjgHgf0K"
      },
      "execution_count": null,
      "outputs": []
    },
    {
      "cell_type": "code",
      "source": [
        "#Se eu quiser saber o posto e município mais caro do país\n",
        "display(gas_df[['Revenda','Municipio','Valor de Venda']].max())"
      ],
      "metadata": {
        "id": "WSlKbJDFhH5C"
      },
      "execution_count": null,
      "outputs": []
    }
  ]
}