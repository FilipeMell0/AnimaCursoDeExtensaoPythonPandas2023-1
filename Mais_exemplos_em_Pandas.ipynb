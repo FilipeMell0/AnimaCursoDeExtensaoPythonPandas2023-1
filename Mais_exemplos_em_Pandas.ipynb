{
  "nbformat": 4,
  "nbformat_minor": 0,
  "metadata": {
    "colab": {
      "provenance": [],
      "authorship_tag": "ABX9TyPoijuKAY9YXL4+GG8CAYVE",
      "include_colab_link": true
    },
    "kernelspec": {
      "name": "python3",
      "display_name": "Python 3"
    },
    "language_info": {
      "name": "python"
    }
  },
  "cells": [
    {
      "cell_type": "markdown",
      "metadata": {
        "id": "view-in-github",
        "colab_type": "text"
      },
      "source": [
        "<a href=\"https://colab.research.google.com/github/FilipeMell0/AnimaCursoDeExtensaoPythonPandas2023-1/blob/main/Mais_exemplos_em_Pandas.ipynb\" target=\"_parent\"><img src=\"https://colab.research.google.com/assets/colab-badge.svg\" alt=\"Open In Colab\"/></a>"
      ]
    },
    {
      "cell_type": "markdown",
      "source": [
        "Segundo exemplo de manipulação de dados usando Python Pandas \n",
        "\n",
        "Veremos inserção de dados, remoção de colunas, merge, gráficos\n",
        "\n",
        "Autor: Filipe Mello e Poyatão da massa.\n",
        "\n",
        "Data: 9 e 10 de fevereiro de 2023"
      ],
      "metadata": {
        "id": "psX5De8FREzL"
      }
    },
    {
      "cell_type": "code",
      "execution_count": null,
      "metadata": {
        "id": "02w2umydQFdU"
      },
      "outputs": [],
      "source": [
        "#Importando biblioteca pandas no Pyhton\n",
        "import pandas as pd\n",
        "\n",
        "combustiveis_df = pd.read_excel(\"ca-2021-02.xlsx\")\n",
        "display(combustiveis_df.head())"
      ]
    },
    {
      "cell_type": "code",
      "source": [
        "#Insersão simples de dados \n",
        "combustiveis_df['Ativo'] = True \n",
        "display(combustiveis_df.head())"
      ],
      "metadata": {
        "id": "AbA86tajTPFm"
      },
      "execution_count": null,
      "outputs": []
    },
    {
      "cell_type": "code",
      "source": [
        "#Criar uma coluna \"Obs\" que tenha nela escrito \"MELHOR CIDADE\" quando a coluna municipio foi igual a PORTO ALEGRE\n",
        "combustiveis_df['Obs'] = [\"MELHOR CIDADE\" if municipio == 'PORTO ALEGRE' else None for municipio in combustiveis_df['Municipio']]\n",
        "display(combustiveis_df.loc[combustiveis_df['Municipio'].isin(['PORTO ALEGRE','ALVORADA', 'GRAMADO', 'CANELA']), ['Municipio', 'Obs']])"
      ],
      "metadata": {
        "id": "cvZehxXET8hV"
      },
      "execution_count": null,
      "outputs": []
    },
    {
      "cell_type": "code",
      "source": [
        "#Como preencher uma coluna 'Valor de venda - Status' que verifica o seguinte:\n",
        "#Se o valor de venda foi maior que R$6,5 ele diz que está caro, caso contrário, dirá que está barato\n",
        "import numpy as np\n",
        "\n",
        "combustiveis_df['Status do valor de venda'] = np.where(combustiveis_df['Valor de Venda'] > 6.5, 'Caro','Barato')\n",
        "display(combustiveis_df[['Revenda','Valor de Venda','Status do valor de venda']])"
      ],
      "metadata": {
        "id": "ZLuKpf3HXEdM"
      },
      "execution_count": null,
      "outputs": []
    },
    {
      "cell_type": "code",
      "source": [
        "#Calcular postos de gasolina por habitante temos na amostragem de combustiveis nov/2021\n",
        "\n",
        "num_habitantes_df = pd.read_csv(\"ibge_num_habitantes_estimado.csv\", sep = \";\")\n",
        "num_habitantes_df.rename(columns={\"Estado\":\"Estado - Sigla\"}, inplace = True)\n",
        "display(num_habitantes_df)"
      ],
      "metadata": {
        "id": "nfWXMXXxZg1y"
      },
      "execution_count": null,
      "outputs": []
    },
    {
      "cell_type": "code",
      "source": [
        "#Fazer um MERGE dos dois dataframes\n",
        "colunas = ['Municipio', 'Estado - Sigla']\n",
        "merge_df = combustiveis_df.merge(num_habitantes_df, how=\"inner\", on=colunas)\n",
        "display(merge_df)\n",
        "print(merge_df.info())"
      ],
      "metadata": {
        "id": "7DL82SXcgMH4"
      },
      "execution_count": null,
      "outputs": []
    },
    {
      "cell_type": "code",
      "source": [
        "#Destruir coluna completamente vazia (todas as linhas são nulas)\n",
        "merge_df.dropna(axis='columns', inplace=True)\n",
        "print(merge_df.info())"
      ],
      "metadata": {
        "id": "xnjXA1aDnsKb"
      },
      "execution_count": null,
      "outputs": []
    },
    {
      "cell_type": "code",
      "source": [
        "colunas=['Regiao - Sigla', 'Nome da Rua', 'Numero Rua', \n",
        "         'Bairro', 'Cep', 'Produto', 'Data da Coleta', 'Valor de Venda',\n",
        "         'Unidade de Medida', 'Bandeira', 'Ativo', 'Status do valor de venda']\n",
        "merge_df.drop(labels=colunas, axis=1, inplace=True)\n",
        "print(merge_df.info())"
      ],
      "metadata": {
        "id": "_zYMyu4jugQX"
      },
      "execution_count": null,
      "outputs": []
    },
    {
      "cell_type": "code",
      "source": [
        "# Remover a linhas duplicadas\n",
        "merge_df.drop_duplicates(inplace=True)\n",
        "display(merge_df.head(100))"
      ],
      "metadata": {
        "id": "Qmzk9W0LvzaV"
      },
      "execution_count": null,
      "outputs": []
    },
    {
      "cell_type": "code",
      "source": [
        "#Agrupar e contar quantos postos tem na cidade..\n",
        "postos_por_municipio_df = merge_df.groupby(by=['Estado - Sigla', 'Municipio', 'NumHabitantes2021']).count()\n",
        "postos_por_municipio_df.drop('CNPJ da Revenda', axis=1, inplace=True)\n",
        "postos_por_municipio_df.rename(columns={\"Revenda\": \"Número de Postos\"}, inplace=True)\n",
        "display(postos_por_municipio_df)"
      ],
      "metadata": {
        "id": "JkMzPpBAxhLO"
      },
      "execution_count": null,
      "outputs": []
    },
    {
      "cell_type": "code",
      "source": [
        "#Agrupar e contar quantos postos tem na cidade..\n",
        "postos_por_municipio_df = merge_df.groupby(by=['Estado - Sigla', 'Municipio', 'NumHabitantes2021']).count()\n",
        "postos_por_municipio_df.reset_index(inplace=True)\n",
        "#display(postos_por_municipio_df.info())\n",
        "postos_por_municipio_df.drop('CNPJ da Revenda', axis=1, inplace=True)\n",
        "postos_por_municipio_df.rename(columns={\"Revenda\": \"NumPostos\"}, inplace=True)\n",
        "\n",
        "postos_por_municipio_df['NumHabitantesPorPosto'] = postos_por_municipio_df['NumHabitantes2021'] / postos_por_municipio_df['NumPostos']\n",
        "#display(postos_por_municipio_df.info())\n",
        "display(postos_por_municipio_df)"
      ],
      "metadata": {
        "id": "7LXvLArr1FGV"
      },
      "execution_count": null,
      "outputs": []
    },
    {
      "cell_type": "code",
      "source": [
        "#Vamos brincar de gráficos!\n",
        "import matplotlib.pyplot as plt\n",
        "\n",
        "plt.hist(combustiveis_df[\"Valor de Venda\"])\n",
        "\n",
        "#Vamos colocar um título no gráfico\n",
        "plt.title(\"Preço dos combustíveis - Nov 2021\")\n",
        "\n",
        "#Rótulo horizontal \n",
        "plt.xlabel(\"Preço (em reais)\")\n",
        "plt.ylabel(\"Quantidade de coletas\")\n",
        "\n",
        "#Traça a linha vermelha tracejada com preço médio\n",
        "plt.axvline(combustiveis_df[\"Valor de Venda\"].mean(), color='red',linestyle='dashed',linewidth=5)\n",
        "\n",
        "#\"Plota\" o gráfico\n",
        "plt.show()"
      ],
      "metadata": {
        "id": "FunD-9X-ele7"
      },
      "execution_count": null,
      "outputs": []
    },
    {
      "cell_type": "code",
      "source": [
        "#Visualização do consumo médio\n",
        "\n",
        "c_mean = combustiveis_df['Valor de Venda'].groupby(by=combustiveis_df['Produto']).mean()\n",
        "\n",
        "display(c_mean)"
      ],
      "metadata": {
        "id": "2J91ft6rojUv"
      },
      "execution_count": null,
      "outputs": []
    },
    {
      "cell_type": "code",
      "source": [
        "import seaborn as sns\n",
        "\n",
        "#Definindo a área do gráfico\n",
        "plt.figure(figsize=(7,5))\n",
        "\n",
        "#Plotar o gráfico\n",
        "c_mean.plot(\n",
        "    kind=\"barh\",\n",
        "    title=\"Média de preço dos combustíveis\",\n",
        "    xlabel=\"Tipo de Combustível\",\n",
        "    ylabel=\"Preço reais/litro\",\n",
        "    color=\"red\",\n",
        "    alpha=0.3\n",
        ")\n",
        "\n",
        "#Grid\n",
        "plt.grid()\n",
        "\n",
        "#Remover as linhas superiores e laterais do gráfico\n",
        "sns.despine()\n",
        "\n",
        "#Exibe\n",
        "plt.show()\n"
      ],
      "metadata": {
        "id": "MK8vFLP4qEpk"
      },
      "execution_count": null,
      "outputs": []
    },
    {
      "cell_type": "code",
      "source": [
        "#c_mean.reset_index(inplace=True)\n",
        "display(c_mean)\n",
        "\n",
        "excel = \"por_litro.xlsx\"\n",
        "c_mean.to_excel(excel, \"Sumário\")"
      ],
      "metadata": {
        "id": "B4GErnbX2AqX"
      },
      "execution_count": null,
      "outputs": []
    },
    {
      "cell_type": "code",
      "source": [
        "#Vamos personalizar a planilha do excel\n",
        "from openpyxl import load_workbook\n",
        "from openpyxl.styles import PatternFill, Font, Color, Alignment\n",
        "\n",
        "#Vai abrir o excel no Openyxl \n",
        "wb = load_workbook(excel) #wb = workbook\n",
        "\n",
        "\n",
        "#Pegar a planilha certa... usando o Sheet name (nome da planilha)\n",
        "ws = wb['Sumário'] #Work Sheet -> planilha atual, ativa, de trabalho\n",
        "\n",
        "#Vamos pintar o cabeçalho da tabela de \"cinzinha\"\n",
        "cinzinha = PatternFill(\"solid\", fgColor = \"cccccc\")\n",
        "coords = ['A1','B1']\n",
        "for cord in coords:\n",
        "  ws[cord].fill = cinzinha\n",
        "\n",
        "#Onde o preço do combustível for maior que 6,5 reais pinte de vermelho e deixa negrito\n",
        "MAX_ROW = ws.max_row\n",
        "num_linha = 2\n",
        "while (num_linha <= MAX_ROW):\n",
        "  coord = 'B'+str(num_linha) #coord=\"B{0}\".format(num_linha)\n",
        "  if ws[coord].value >= 6.5:\n",
        "    ws[coord].font = Font(bold=True, color=\"FF0000\")\n",
        "  num_linha = num_linha + 1\n",
        "\n",
        "#Salvar o excel \n",
        "wb.save(excel)\n"
      ],
      "metadata": {
        "id": "Z73DtKkWzNAo"
      },
      "execution_count": 52,
      "outputs": []
    }
  ]
}